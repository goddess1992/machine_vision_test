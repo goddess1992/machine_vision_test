{
  "nbformat": 4,
  "nbformat_minor": 0,
  "metadata": {
    "colab": {
      "provenance": [],
      "collapsed_sections": [
        "VWLUPbbq3YMG"
      ],
      "include_colab_link": true
    },
    "kernelspec": {
      "name": "python3",
      "display_name": "Python 3"
    },
    "language_info": {
      "name": "python"
    }
  },
  "cells": [
    {
      "cell_type": "markdown",
      "metadata": {
        "id": "view-in-github",
        "colab_type": "text"
      },
      "source": [
        "<a href=\"https://colab.research.google.com/github/goddess1992/machine_vision_test/blob/main/session2.ipynb\" target=\"_parent\"><img src=\"https://colab.research.google.com/assets/colab-badge.svg\" alt=\"Open In Colab\"/></a>"
      ]
    },
    {
      "cell_type": "markdown",
      "source": [
        "# deep_1"
      ],
      "metadata": {
        "id": "VWLUPbbq3YMG"
      }
    },
    {
      "cell_type": "code",
      "source": [
        "import cv2\n",
        "import numpy as np\n",
        "from google.colab.patches import cv2_imshow\n",
        "f=cv2.imread('/content/Sc.png',0)"
      ],
      "metadata": {
        "id": "h3NPA9HbmGKL"
      },
      "execution_count": null,
      "outputs": []
    },
    {
      "cell_type": "markdown",
      "source": [
        "خیلی خوب نیست برا رفع نویز"
      ],
      "metadata": {
        "id": "P0Ln_Cmd6KKY"
      }
    },
    {
      "cell_type": "code",
      "source": [
        "# فلتر میانگین\n",
        "# print(I)\n",
        "cv2_imshow(f)\n",
        "# cv2.waitKey(2)\n",
        "# print(I[:,:,0])\n",
        "\n",
        "g=np.ones((3,3))/9\n",
        "h=cv2.filter2D(f,-1,g)\n",
        "cv2_imshow(h)\n"
      ],
      "metadata": {
        "id": "xZ2mSYxumkS5"
      },
      "execution_count": null,
      "outputs": []
    },
    {
      "cell_type": "markdown",
      "source": [
        "میانه کانوولوشن نیست\n",
        "برای نویز پپر و سالت بهتره"
      ],
      "metadata": {
        "id": "z8rvsQU_6Be2"
      }
    },
    {
      "cell_type": "code",
      "source": [
        "# فیلتر میانه\n",
        "h=cv2.medianBlur(f,3)\n",
        "cv2_imshow(h)"
      ],
      "metadata": {
        "id": "caPhvbqU4Z-t"
      },
      "execution_count": null,
      "outputs": []
    },
    {
      "cell_type": "markdown",
      "source": [
        "فیلتر گوسی الزاما مربع فرد باشه کرنل"
      ],
      "metadata": {
        "id": "KVeLgWcR6OHi"
      }
    },
    {
      "cell_type": "code",
      "source": [
        "h=cv2.GaussianBlur(f,(3,3),2)\n",
        "cv2_imshow(h)"
      ],
      "metadata": {
        "id": "0DyIWYED6TWz"
      },
      "execution_count": null,
      "outputs": []
    },
    {
      "cell_type": "markdown",
      "source": [
        "فیلتر لبه یابی افقی\n",
        "prewit"
      ],
      "metadata": {
        "id": "Xf9PWjG87sFM"
      }
    },
    {
      "cell_type": "code",
      "source": [
        "g=np.zeros((3,3))\n",
        "g[0,:]=1\n",
        "g[2,:]=-1\n",
        "h=cv2.filter2D(f,-1,g)\n",
        "cv2_imshow(h)"
      ],
      "metadata": {
        "id": "wZMyKRA77Kbz"
      },
      "execution_count": null,
      "outputs": []
    },
    {
      "cell_type": "markdown",
      "source": [
        "لبه یابی عمودی"
      ],
      "metadata": {
        "id": "iyGHuMgX771c"
      }
    },
    {
      "cell_type": "code",
      "source": [
        "g=np.zeros((3,3))\n",
        "g[0,:]=1\n",
        "g[2,:]=-1\n",
        "h=cv2.filter2D(f,-1,g.T)\n",
        "cv2_imshow(h)"
      ],
      "metadata": {
        "id": "DD8P3phW7yQA"
      },
      "execution_count": null,
      "outputs": []
    },
    {
      "cell_type": "markdown",
      "source": [
        "sobel\n",
        "g=[1,2,1;0,0,0;-1,-2,-1]"
      ],
      "metadata": {
        "id": "1GilzB7-8r_G"
      }
    },
    {
      "cell_type": "code",
      "source": [],
      "metadata": {
        "id": "KfMOnlHK8ug1"
      },
      "execution_count": null,
      "outputs": []
    },
    {
      "cell_type": "markdown",
      "source": [
        "# deep_2"
      ],
      "metadata": {
        "id": "mXQt8t2a3cIC"
      }
    },
    {
      "cell_type": "code",
      "source": [
        "خروجی سایز=\n",
        "1+[(x_in-x_filter)/stride]"
      ],
      "metadata": {
        "id": "Pug9C-bt3e5B"
      },
      "execution_count": null,
      "outputs": []
    },
    {
      "cell_type": "code",
      "source": [
        "import tensorflow as tf\n",
        "mnist=tf.keras.datasets.mnist\n",
        "(x_train,y_train),(x_test,y_test)=mnist.load_data()\n",
        "x_traint=x_train/255.0\n",
        "x_test=x_test/255.0\n",
        "model=tf.keras.models.Sequential([\n",
        "    tf.keras.layers.Flatten(input_shape=(28,28)),\n",
        "    tf.keras.layers.Dense(128,activation='relu'),\n",
        "    tf.keras.layers.Dropout(0.2),\n",
        "    tf.keras.layers.Dense(10,activation='softmax')])\n",
        "\n",
        "model.compile(optimizer='adam',\n",
        "              loss='sparse_categorical_crossentropy',\n",
        "              metrics=['accuracy'])\n",
        "model.fit(x_train,y_train,epochs=5)\n",
        "model.evaluate(x_test,y_test)\n",
        "model.summary()"
      ],
      "metadata": {
        "id": "K7R2FiDR4saa"
      },
      "execution_count": null,
      "outputs": []
    },
    {
      "cell_type": "code",
      "source": [
        "model2=tf.keras.models.Sequential()\n",
        "model2.add(  tf.keras.layers.Conv2D"
      ],
      "metadata": {
        "id": "leEjBe-c6oml"
      },
      "execution_count": null,
      "outputs": []
    }
  ]
}